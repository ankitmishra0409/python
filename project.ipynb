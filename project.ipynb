{
 "cells": [
  {
   "cell_type": "code",
   "execution_count": null,
   "id": "146f520f",
   "metadata": {},
   "outputs": [],
   "source": [
    "print(\"ankit mishra\")"
   ]
  },
  {
   "cell_type": "code",
   "execution_count": null,
   "id": "c79ff7a6",
   "metadata": {},
   "outputs": [],
   "source": [
    "import pandas as pd\n",
    "\n",
    "data = {'student': [\"ankit\",\"mohit\"],'rank':[1,2]}\n",
    "res= pd.DataFrame(data)\n",
    "\n",
    "print(\"student records\\n\\n\",res)"
   ]
  },
  {
   "cell_type": "code",
   "execution_count": null,
   "id": "52536386",
   "metadata": {},
   "outputs": [],
   "source": [
    "for i in range(5):\n",
    " print (i)\n",
    " print(\"Ankit\")"
   ]
  },
  {
   "cell_type": "code",
   "execution_count": null,
   "id": "906ffcab",
   "metadata": {},
   "outputs": [],
   "source": [
    "for i in range (10):\n",
    " print(\"Ankit\")"
   ]
  },
  {
   "cell_type": "code",
   "execution_count": null,
   "id": "4aaeda61",
   "metadata": {},
   "outputs": [],
   "source": [
    "for i in range(10):\n",
    " print(i)\n",
    "print(\"Ankit\")"
   ]
  },
  {
   "cell_type": "code",
   "execution_count": null,
   "id": "e454b8c0",
   "metadata": {},
   "outputs": [],
   "source": [
    "for i in range(2):\n",
    " print(i)\n",
    " print(\"Ankit\\n\")\n",
    "    "
   ]
  },
  {
   "cell_type": "code",
   "execution_count": null,
   "id": "2ab0e7a5",
   "metadata": {},
   "outputs": [],
   "source": [
    "n = int(input(\"Enter the number of terms: \"))\n",
    "\n",
    "# initialize the first two terms of the series\n",
    "a, b = 0, 1\n",
    "\n",
    "# check if the number of terms is valid\n",
    "if n <= 0:\n",
    "    print(\"Invalid input!\")\n",
    "elif n == 1:\n",
    "    print(\"Fibonacci series:\", a)\n",
    "else:\n",
    "    # print the first two terms of the series \n",
    "    print(\"Fibonacci series:\", a, b, end=\" \")\n",
    "\n",
    "    # generate the rest of the series\n",
    "    for i in range(2, n):\n",
    "        c = a + b\n",
    "        print(c, end=\" \")\n",
    "        a, b = b, c\n",
    "        \n",
    "    # In this code, the user is prompted to enter the number of terms to generate in the series. \n",
    "    #The code then checks if the input is valid, i.e., if the number of terms is greater than zero. \n",
    "    #If it is, the first two terms of the series are initialized to 0 and 1, and then printed. \n",
    "    #Then, a for loop is used to generate the rest of the series, where each term is the sum of the previous two terms. \n",
    "    #The loop runs from 2 to n-1, as the first two terms of the series have already been printed. \n",
    "    #The end parameter in the print function is used to print each term on the same line separated by a space, \n",
    "    #instead of on separate lines.\n",
    "\n",
    "        "
   ]
  },
  {
   "cell_type": "code",
   "execution_count": null,
   "id": "a6d69cf9",
   "metadata": {},
   "outputs": [],
   "source": [
    "(x,y,z)= (1,2,\"ankit\")\n",
    "print(\"\",x,y,z)"
   ]
  },
  {
   "cell_type": "code",
   "execution_count": null,
   "id": "debc0f0d",
   "metadata": {},
   "outputs": [],
   "source": [
    "a = 2\n",
    "b = 2\n",
    "print(\"\",a+b)"
   ]
  },
  {
   "cell_type": "code",
   "execution_count": null,
   "id": "5bda75df",
   "metadata": {},
   "outputs": [],
   "source": [
    "a = 100//40\n",
    "a"
   ]
  },
  {
   "cell_type": "code",
   "execution_count": null,
   "id": "32d1bf9f",
   "metadata": {},
   "outputs": [],
   "source": [
    "a = 100/40\n",
    "a"
   ]
  },
  {
   "cell_type": "code",
   "execution_count": null,
   "id": "3adfe863",
   "metadata": {},
   "outputs": [],
   "source": [
    "v = \"india\"\n",
    "print(\"Result\",v[1] ,v[:3])"
   ]
  },
  {
   "cell_type": "code",
   "execution_count": null,
   "id": "f36dc61c",
   "metadata": {},
   "outputs": [],
   "source": [
    "v = \"india\"\n",
    "print(\"Result\\n\",v[1] )\n",
    "print(\"Result1\\n\",v[:3])"
   ]
  },
  {
   "cell_type": "code",
   "execution_count": null,
   "id": "2ef67f4b",
   "metadata": {},
   "outputs": [],
   "source": [
    "print({9.8, 3.14, 2.7})"
   ]
  },
  {
   "cell_type": "code",
   "execution_count": null,
   "id": "ae264c4d",
   "metadata": {},
   "outputs": [],
   "source": [
    "print(type({9.8, 3.14, 2.7})) "
   ]
  },
  {
   "cell_type": "code",
   "execution_count": null,
   "id": "1e599c2a",
   "metadata": {},
   "outputs": [],
   "source": [
    "print((9.8, 3.14, 2.7))"
   ]
  },
  {
   "cell_type": "code",
   "execution_count": null,
   "id": "50d40fe6",
   "metadata": {},
   "outputs": [],
   "source": [
    "print(type((9.8, 3.14, 2.7))) "
   ]
  },
  {
   "cell_type": "code",
   "execution_count": null,
   "id": "9be0668c",
   "metadata": {},
   "outputs": [],
   "source": [
    "print({'name':'Asabeneh'})"
   ]
  },
  {
   "cell_type": "code",
   "execution_count": null,
   "id": "c31684e9",
   "metadata": {},
   "outputs": [],
   "source": [
    "print(type({'name':'Asabeneh'}))"
   ]
  },
  {
   "cell_type": "code",
   "execution_count": null,
   "id": "6d9c6253",
   "metadata": {},
   "outputs": [],
   "source": [
    "a= {'ankit':'happy'}\n",
    "print (a)"
   ]
  },
  {
   "cell_type": "code",
   "execution_count": null,
   "id": "d70cd109",
   "metadata": {},
   "outputs": [],
   "source": [
    "from itertools import permutations\n",
    "\n",
    "num = input(\"Enter a three-digit number: \")\n",
    "\n",
    "perms = [''.join(p) for p in permutations(num)]\n",
    "\n",
    "\n",
    "# [expression for item in iterable if condition]\n",
    "#This line generates all possible permutations of the digits in the input number num. \n",
    "#The permutations function returns a list of tuples, where each tuple represents a different permutation. \n",
    "#We use a list comprehension to convert each tuple to a string, which we concatenate using the join method. \n",
    "#The resulting list of strings is stored in the perms variable.\n",
    "\n",
    "print(\"All permutations of\", num, \"are:\")\n",
    "for perm in perms:\n",
    "    print(perm)\n"
   ]
  },
  {
   "cell_type": "code",
   "execution_count": null,
   "id": "b3c2a9e4",
   "metadata": {},
   "outputs": [],
   "source": [
    "numbers = [1, 2, 3, 4, 5, 6, 7, 8, 9, 10]\n",
    "even_numbers = [x for x in numbers if x % 2 == 0]\n",
    "print(even_numbers) \n",
    "odd_numbers = [y for y in numbers if y %2 != 0]\n",
    "print(odd_numbers)"
   ]
  },
  {
   "cell_type": "code",
   "execution_count": null,
   "id": "b2de9c4c",
   "metadata": {},
   "outputs": [],
   "source": [
    "a= [1,2,3,]\n",
    "a"
   ]
  },
  {
   "cell_type": "code",
   "execution_count": null,
   "id": "38029ef5",
   "metadata": {},
   "outputs": [],
   "source": [
    "type(a)"
   ]
  },
  {
   "cell_type": "code",
   "execution_count": null,
   "id": "c2622530",
   "metadata": {},
   "outputs": [],
   "source": [
    "a = {1,2,3}\n",
    "type(a)"
   ]
  },
  {
   "cell_type": "code",
   "execution_count": null,
   "id": "0f0c4789",
   "metadata": {},
   "outputs": [],
   "source": [
    "a = (1,2,3)\n",
    "type(a)"
   ]
  },
  {
   "cell_type": "code",
   "execution_count": null,
   "id": "5c71bcc0",
   "metadata": {},
   "outputs": [],
   "source": [
    "a = {'ankit': 'weird'}\n",
    "type(a)"
   ]
  },
  {
   "cell_type": "code",
   "execution_count": null,
   "id": "dd507ab2",
   "metadata": {},
   "outputs": [],
   "source": [
    "a = 1+2j\n",
    "print(a*a)"
   ]
  },
  {
   "cell_type": "code",
   "execution_count": null,
   "id": "760fb980",
   "metadata": {},
   "outputs": [],
   "source": [
    "a =1 \n",
    "b=5 \n",
    "c=True  \n",
    "b>a"
   ]
  },
  {
   "cell_type": "code",
   "execution_count": null,
   "id": "45a5305f",
   "metadata": {},
   "outputs": [],
   "source": [
    "x = \"ankit\"\n",
    "print (x[0],x[::-1],x[0:5],x[-5:-1])\n"
   ]
  },
  {
   "cell_type": "code",
   "execution_count": null,
   "id": "39925a6c",
   "metadata": {},
   "outputs": [],
   "source": [
    "m=[x**2 for x in range(20) if x**2>100]\n",
    "print(m)"
   ]
  },
  {
   "cell_type": "code",
   "execution_count": null,
   "id": "30a0a7e0",
   "metadata": {},
   "outputs": [],
   "source": [
    "m=[\"ankit\",\"mohit\",\"arpit\",\"shobhit\"]\n",
    "n=[m[::-1] for m in m]\n",
    "print(n)"
   ]
  },
  {
   "cell_type": "code",
   "execution_count": null,
   "id": "cc516275",
   "metadata": {},
   "outputs": [],
   "source": [
    "a = ['ankit', 'mohit', 'arpit']\n",
    "b = [1, 1, 3]\n",
    "z = [(a,b) for a ,b in zip(a,b) if b == 1]\n",
    "print(z)\n",
    "\n"
   ]
  },
  {
   "cell_type": "code",
   "execution_count": null,
   "id": "f6a54034",
   "metadata": {},
   "outputs": [],
   "source": [
    "a = [\"apple\", \"banana\", \"cherry\"]\n",
    "b = [1,2,3]\n",
    "z = [(a, b) for x in a for y in b if y == 1]\n",
    "print(z)\n",
    "\n"
   ]
  },
  {
   "cell_type": "code",
   "execution_count": null,
   "id": "57a5cf12",
   "metadata": {},
   "outputs": [],
   "source": [
    "fruits = [\"apple\", \"banana\", \"cherry\"]\n",
    "colors = [\"red\", \"yellow\", \"red\"]\n",
    "tuples = [(x, y) for x in fruits for y in colors if y == \"red\"]\n",
    "print(tuples)\n"
   ]
  },
  {
   "cell_type": "code",
   "execution_count": null,
   "id": "b688b4a3",
   "metadata": {},
   "outputs": [],
   "source": [
    "a = ['ankit', 'mohit', 'arpit']\n",
    "b = [1, 1, 3]\n",
    "z = [(elem, 1) for elem in a for num in b if num == 1]\n",
    "print(z)\n",
    "#(\"The reason you are getting the result [('ankit', 1), ('ankit', 1), ('mohit', 1), ('mohit', 1), ('arpit', 1), ('arpit', 1)] \n",
    " #instead of [(\"ankit\", 1), (\"mohit\", 1)] is that the list b has three elements, and two of them have the value 1. \n",
    "#Therefore, the list comprehension creates two tuples for each element of a that corresponds to the value 1 in b, \n",
    "# resulting in a total of six tuples in the output.If you want to get only one tuple for each element of a that \n",
    " #corresponds to the value 1 in b, you can modify the code to use the zip function to iterate over both lists simultaneously:\"\")\n"
   ]
  },
  {
   "cell_type": "code",
   "execution_count": null,
   "id": "9753a919",
   "metadata": {},
   "outputs": [],
   "source": [
    "a = ['ankit', 'mohit', 'arpit']\n",
    "b = [1, 1, 3]\n",
    "z = [(elem, num) for elem, num in zip(a, b) if num == 1]\n",
    "print(z)\n",
    "\n",
    "#(\"Here, the zip function creates pairs of corresponding elements from a and b, and the list comprehension iterates over\n",
    "# these pairs and selects only the ones where the second element (num) is equal to 1. This results in a list of tuples \n",
    " #containing only one tuple for each element of a that corresponds to the value 1 in b.\")"
   ]
  },
  {
   "cell_type": "code",
   "execution_count": null,
   "id": "e0bcdea6",
   "metadata": {},
   "outputs": [],
   "source": [
    "fruits = [\"apple\", \"banana\", \"cherry\"]\n",
    "colors = [\"red\", \"yellow\", \"red\"]\n",
    "tuples = [(x, y) for x, y in zip(fruits, colors) if y == \"red\"]\n",
    "print(tuples)\n",
    "# Output: [(\"apple\", \"red\"), (\"cherry\", \"red\")]\n"
   ]
  },
  {
   "cell_type": "code",
   "execution_count": null,
   "id": "9c6e6031",
   "metadata": {},
   "outputs": [],
   "source": [
    "words = [\"Hello\", \"world\", \"how\", \"are\", \"you\"]\n",
    "sentence = \" \".join([X for X in words])\n",
    "print(sentence)\n",
    "# Output: \"Hello world how are you\"\n"
   ]
  },
  {
   "cell_type": "code",
   "execution_count": null,
   "id": "142eb45c",
   "metadata": {},
   "outputs": [],
   "source": [
    "numbers = [1, 2, 3, 4, 5]\n",
    "csv = \",\".join([str(num) for num in numbers])\n",
    "q=int(\"\".join([str(num) for num in numbers]))\n",
    "print(csv)\n",
    "print(q)\n",
    "print(type(csv))\n",
    "print(type(q))\n",
    "\n"
   ]
  },
  {
   "cell_type": "code",
   "execution_count": null,
   "id": "a9c9155e",
   "metadata": {},
   "outputs": [],
   "source": [
    "m = [\"ankit\", \"mohit\", \"arpit\", \"shobhit\"]\n",
    "print(len(m)) \n",
    "print(\"\\n\",m[-4])"
   ]
  },
  {
   "cell_type": "code",
   "execution_count": null,
   "id": "7de13f92",
   "metadata": {},
   "outputs": [],
   "source": [
    "m = [\"ankit\", \"mohit\", \"arpit\", \"shobhit\"]\n",
    "n = []\n",
    "i = 0\n",
    "j = len(m) - 1\n",
    "\n",
    "while i <= j:\n",
    "    m[i], m[j] = m[j], m[i]   # swap elements at indices i and j\n",
    "    n.append(m[i][::-1])      # append the reversed element to the new list\n",
    "    n.append(m[j][::-1])      # append the reversed element to the new list\n",
    "    i += 1\n",
    "    j -= 1\n",
    "\n",
    "print(n)\n"
   ]
  },
  {
   "cell_type": "code",
   "execution_count": null,
   "id": "19aaecaf",
   "metadata": {},
   "outputs": [],
   "source": [
    "m = [\"ankit\", \"mohit\", \"arpit\", \"shobhit\"]\n",
    "n = []\n",
    "i = 0\n",
    "j = len(m) - 1\n",
    "\n",
    "while i <= j:\n",
    "    if i == j:\n",
    "        n.append(m[i][::-1])    # append the reversed middle element\n",
    "    else:\n",
    "        n.append(m[i][::-1])    # append the reversed first element\n",
    "        n.append(m[j][::-1])    # append the reversed last element\n",
    "    i += 1\n",
    "    j -= 1\n",
    "\n",
    "print(n)\n"
   ]
  },
  {
   "cell_type": "code",
   "execution_count": 1,
   "id": "04325a60",
   "metadata": {},
   "outputs": [
    {
     "data": {
      "image/png": "[encoded data removed]",
      "text/plain": [
       "<Figure size 640x480 with 1 Axes>"
      ]
     },
     "metadata": {},
     "output_type": "display_data"
    }
   ],
   "source": [
    "import matplotlib.pyplot as plt\n",
    "import numpy as np\n",
    "\n",
    "# Define the range of x values\n",
    "x = np.linspace(-10, 10, 100)\n",
    "\n",
    "# Define the equation for the parabolic curve\n",
    "y = x ** 2\n",
    "\n",
    "# Plot the curve\n",
    "plt.plot(x, y)\n",
    "\n",
    "# Add labels and a title\n",
    "plt.xlabel('X')\n",
    "plt.ylabel('Y')\n",
    "plt.title('Parabolic Curve')\n",
    "\n",
    "# Show the plot\n",
    "plt.show()\n"
   ]
  },
  {
   "cell_type": "code",
   "execution_count": 3,
   "id": "da7cda8e",
   "metadata": {},
   "outputs": [
    {
     "name": "stdout",
     "output_type": "stream",
     "text": [
      "5,4,3,2,1,"
     ]
    }
   ],
   "source": [
    "for i in reversed([1,2,3,4,5]):\n",
    " print(i,end=\",\")\n"
   ]
  },
  {
   "cell_type": "code",
   "execution_count": 4,
   "id": "d8cb39d5",
   "metadata": {},
   "outputs": [
    {
     "name": "stdout",
     "output_type": "stream",
     "text": [
      "1,2,4,5,6,9,"
     ]
    }
   ],
   "source": [
    "for i in sorted([1,2,9,6,5,4]):\n",
    " print(i,end=\",\")"
   ]
  },
  {
   "cell_type": "code",
   "execution_count": 2,
   "id": "a01fac1a",
   "metadata": {},
   "outputs": [
    {
     "name": "stdout",
     "output_type": "stream",
     "text": [
      "1\n",
      "3\n"
     ]
    }
   ],
   "source": [
    "for i in range(1,5,2):\n",
    "    print (i)"
   ]
  },
  {
   "cell_type": "code",
   "execution_count": 11,
   "id": "b921ae3a",
   "metadata": {},
   "outputs": [
    {
     "name": "stdout",
     "output_type": "stream",
     "text": [
      "1 Divyanshu\n",
      "2 875597\n",
      "3 CS\n"
     ]
    }
   ],
   "source": [
    "d = {1:'Divyanshu', 2:'875597', 3:'CS'}\n",
    "for i in d.keys():\n",
    "    print(i,d[i])\n",
    "    "
   ]
  },
  {
   "cell_type": "code",
   "execution_count": 9,
   "id": "4bf905be",
   "metadata": {},
   "outputs": [
    {
     "name": "stdout",
     "output_type": "stream",
     "text": [
      "{1: ['ankit', 'mohit', 'arpit'], 2: ['ankit', 'mohit', 'arpit'], 3: ['ankit', 'mohit', 'arpit']}\n"
     ]
    }
   ],
   "source": [
    "n= [1,2,3]\n",
    "m=['ankit', 'mohit','arpit']\n",
    "p=dict.fromkeys(n,m)\n",
    "print(p)"
   ]
  },
  {
   "cell_type": "code",
   "execution_count": null,
   "id": "5230df9f",
   "metadata": {},
   "outputs": [],
   "source": [
    "n = [1, 2, 3]\n",
    "m = ['ankit', 'mohit', 'arpit']\n",
    "\n",
    "result_dict = dict.fromkeys(n, None)\n",
    "\n",
    "for i in range(len(n)):\n",
    "    result_dict[n[i]] = m[i]\n",
    "\n",
    "print(result_dict)\n"
   ]
  },
  {
   "cell_type": "code",
   "execution_count": null,
   "id": "d999b1b3",
   "metadata": {},
   "outputs": [],
   "source": [
    "lis = [1,2,3,4,5,6]\n",
    "i=0\n",
    "while i < len(lis):\n",
    "    print(lis[i],end=' ')\n",
    "    i += 1\n",
    "print()"
   ]
  },
  {
   "cell_type": "code",
   "execution_count": null,
   "id": "5dabed31",
   "metadata": {},
   "outputs": [],
   "source": [
    "lis = [1,2,3,4,5,6]\n",
    "i=0\n",
    "while i < len(lis):\n",
    "    print(lis[i],end=' ')\n",
    "    i += 1\n",
    "print()"
   ]
  },
  {
   "cell_type": "code",
   "execution_count": null,
   "id": "10511828",
   "metadata": {},
   "outputs": [],
   "source": []
  },
  {
   "cell_type": "code",
   "execution_count": null,
   "id": "1b40f767",
   "metadata": {},
   "outputs": [],
   "source": []
  }
 ],
 "metadata": {
  "kernelspec": {
   "display_name": "Python 3 (ipykernel)",
   "language": "python",
   "name": "python3"
  },
  "language_info": {
   "codemirror_mode": {
    "name": "ipython",
    "version": 3
   },
   "file_extension": ".py",
   "mimetype": "text/x-python",
   "name": "python",
   "nbconvert_exporter": "python",
   "pygments_lexer": "ipython3",
   "version": "3.10.9"
  }
 },
 "nbformat": 4,
 "nbformat_minor": 5
}
