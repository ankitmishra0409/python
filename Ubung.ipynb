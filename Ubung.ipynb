{
 "cells": [
  {
   "cell_type": "code",
   "execution_count": 1,
   "id": "88be457f",
   "metadata": {},
   "outputs": [
    {
     "name": "stdout",
     "output_type": "stream",
     "text": [
      "1 2 3 4 5 6 \n"
     ]
    }
   ],
   "source": [
    "lis = [1,2,3,4,5,6]\n",
    "i=0\n",
    "while i < len(lis):\n",
    "    print(lis[i],end=' ')\n",
    "    i += 1\n",
    "print()"
   ]
  },
  {
   "cell_type": "code",
   "execution_count": 1,
   "id": "e004d95d",
   "metadata": {},
   "outputs": [
    {
     "name": "stdout",
     "output_type": "stream",
     "text": [
      "['ankit']\n"
     ]
    }
   ],
   "source": [
    "x= \"ankit\"\n",
    "y = x.split('-')\n",
    "print (y)"
   ]
  },
  {
   "cell_type": "code",
   "execution_count": 2,
   "id": "914b86ef",
   "metadata": {},
   "outputs": [
    {
     "name": "stdout",
     "output_type": "stream",
     "text": [
      "an\n"
     ]
    }
   ],
   "source": [
    "x= \"ankit\"\n",
    "p= slice(2)\n",
    "print (x[p])"
   ]
  },
  {
   "cell_type": "code",
   "execution_count": 3,
   "id": "014b4e4f",
   "metadata": {},
   "outputs": [
    {
     "name": "stdout",
     "output_type": "stream",
     "text": [
      "nki\n"
     ]
    }
   ],
   "source": [
    "x= \"ankit\"\n",
    "p= slice(1,4)\n",
    "print (x[p])"
   ]
  },
  {
   "cell_type": "code",
   "execution_count": 4,
   "id": "8b5a7e15",
   "metadata": {},
   "outputs": [
    {
     "name": "stdout",
     "output_type": "stream",
     "text": [
      "['n', 'k', 'i']\n"
     ]
    }
   ],
   "source": [
    "x = ['a','n','k','i','t']\n",
    "p= slice(1,4)\n",
    "print (x[p])"
   ]
  },
  {
   "cell_type": "code",
   "execution_count": 5,
   "id": "e2a2483c",
   "metadata": {},
   "outputs": [
    {
     "name": "stdout",
     "output_type": "stream",
     "text": [
      "['a', 'n', 'k', 'i']\n"
     ]
    }
   ],
   "source": [
    "x = ['a','n','k','i','t']\n",
    "p= slice(-1)\n",
    "print (x[p])"
   ]
  },
  {
   "cell_type": "code",
   "execution_count": 12,
   "id": "d6322022",
   "metadata": {},
   "outputs": [
    {
     "name": "stdout",
     "output_type": "stream",
     "text": [
      "['a', 'n', 'k', 'i', 't']\n"
     ]
    }
   ],
   "source": [
    "x = (['a','n','k','i','t'], ['m','o','h','i','t'])\n",
    "p = slice(0, 1)  # select the second element of the tuple\n",
    "result = x[p][0]  # get the first (and only) element of the resulting list\n",
    "print(result)\n"
   ]
  },
  {
   "cell_type": "code",
   "execution_count": 13,
   "id": "f2c2ec72",
   "metadata": {},
   "outputs": [
    {
     "name": "stdout",
     "output_type": "stream",
     "text": [
      "['m', 'o', 'h', 'i', 't']\n"
     ]
    }
   ],
   "source": [
    "x = (['a','n','k','i','t'], ['m','o','h','i','t'])\n",
    "p = slice(1, 2)  # select the second element of the tuple\n",
    "result = x[p][0]  # get the first (and only) element of the resulting list\n",
    "print(result)\n"
   ]
  },
  {
   "cell_type": "code",
   "execution_count": 16,
   "id": "3ab706d0",
   "metadata": {},
   "outputs": [
    {
     "name": "stdout",
     "output_type": "stream",
     "text": [
      "['a', 'n', 'k', 'i', 't']\n"
     ]
    }
   ],
   "source": [
    "x = (['a','n','k','i','t'], ['m','o','h','i','t'])\n",
    "p = slice(0,1)  # select the second element of the tuple\n",
    "result = x[p][0]  # get the first (and only) element of the resulting list\n",
    "print(result)"
   ]
  },
  {
   "cell_type": "code",
   "execution_count": 19,
   "id": "eebc5408",
   "metadata": {},
   "outputs": [
    {
     "name": "stdout",
     "output_type": "stream",
     "text": [
      "(['m', 'o', 'h', 'i', 't'],)\n"
     ]
    }
   ],
   "source": [
    "x = (['a','n','k','i','t'],['m','o','h','i','t'])\n",
    "p= slice(1,2)\n",
    "print (x[p][:])"
   ]
  },
  {
   "cell_type": "code",
   "execution_count": 15,
   "id": "b99bf304",
   "metadata": {},
   "outputs": [
    {
     "name": "stdout",
     "output_type": "stream",
     "text": [
      "a\n",
      "hr\n",
      "ankitmishr\n",
      "arhsimtikna\n",
      "arhsimtikn\n",
      "arhsimtik\n",
      "aktiha\n",
      "nims\n"
     ]
    }
   ],
   "source": [
    "x = 'ankitmishra'\n",
    "print (x[-1])\n",
    "print (x[-3:-1])\n",
    "print (x[:-1])\n",
    "print (x[::-1])\n",
    "print (x[::-1][:-1])\n",
    "print (x[::-1][:-2])\n",
    "print (x[::2])\n",
    "print (x[1:9:2])"
   ]
  },
  {
   "cell_type": "code",
   "execution_count": 18,
   "id": "837e3f93",
   "metadata": {},
   "outputs": [
    {
     "name": "stdout",
     "output_type": "stream",
     "text": [
      "Hello team!\n"
     ]
    }
   ],
   "source": [
    "str1 = \"Prep\"\n",
    "str2 = \"Insta\"\n",
    "str1+str2\n",
    "print(\"Hello\"+\" \"+\"team\"+\"!\")"
   ]
  },
  {
   "cell_type": "code",
   "execution_count": 23,
   "id": "ce80e61a",
   "metadata": {},
   "outputs": [
    {
     "name": "stdout",
     "output_type": "stream",
     "text": [
      "ankitankitankitankit\n",
      "ankit\n",
      "ankit\n",
      "ankit\n",
      "ankit\n",
      "\n",
      "ankit ankit ankit ankit \n",
      "['a', 'n', 'k', 'i', 't']\n"
     ]
    }
   ],
   "source": [
    "x = 'ankit'\n",
    "p=4\n",
    "y = x*4\n",
    "print (y)\n",
    "print((x+\"\\n\")*p)\n",
    "print((x+\" \")*p)\n",
    "z= list(x)\n",
    "print(z)"
   ]
  },
  {
   "cell_type": "code",
   "execution_count": null,
   "id": "7c0c6f6b",
   "metadata": {},
   "outputs": [],
   "source": []
  }
 ],
 "metadata": {
  "kernelspec": {
   "display_name": "Python 3 (ipykernel)",
   "language": "python",
   "name": "python3"
  },
  "language_info": {
   "codemirror_mode": {
    "name": "ipython",
    "version": 3
   },
   "file_extension": ".py",
   "mimetype": "text/x-python",
   "name": "python",
   "nbconvert_exporter": "python",
   "pygments_lexer": "ipython3",
   "version": "3.10.9"
  }
 },
 "nbformat": 4,
 "nbformat_minor": 5
}
